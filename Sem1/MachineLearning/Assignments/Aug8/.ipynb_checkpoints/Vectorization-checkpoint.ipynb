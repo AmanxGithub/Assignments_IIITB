{
 "cells": [
  {
   "cell_type": "code",
   "execution_count": 1,
   "metadata": {},
   "outputs": [],
   "source": [
    "import numpy as np\n",
    "import time"
   ]
  },
  {
   "cell_type": "code",
   "execution_count": 2,
   "metadata": {},
   "outputs": [
    {
     "name": "stdout",
     "output_type": "stream",
     "text": [
      "[6.  7.5 8.  0.  1. ]\n"
     ]
    }
   ],
   "source": [
    "data = [6, 7.5, 8, 0, 1]\n",
    "arr = np.array(data)\n",
    "print(arr)\n"
   ]
  },
  {
   "cell_type": "code",
   "execution_count": 3,
   "metadata": {},
   "outputs": [
    {
     "name": "stdout",
     "output_type": "stream",
     "text": [
      "[[1 2 3 4]\n",
      " [5 6 7 8]]\n"
     ]
    }
   ],
   "source": [
    "matrix = [[1, 2, 3, 4], [5, 6, 7, 8]]\n",
    "arr = np.array(matrix)\n",
    "print(arr)"
   ]
  },
  {
   "cell_type": "code",
   "execution_count": 4,
   "metadata": {},
   "outputs": [
    {
     "data": {
      "text/plain": [
       "2"
      ]
     },
     "execution_count": 4,
     "metadata": {},
     "output_type": "execute_result"
    }
   ],
   "source": [
    "arr.ndim"
   ]
  },
  {
   "cell_type": "code",
   "execution_count": 5,
   "metadata": {},
   "outputs": [
    {
     "data": {
      "text/plain": [
       "(2, 4)"
      ]
     },
     "execution_count": 5,
     "metadata": {},
     "output_type": "execute_result"
    }
   ],
   "source": [
    "arr.shape"
   ]
  },
  {
   "cell_type": "code",
   "execution_count": 6,
   "metadata": {},
   "outputs": [
    {
     "data": {
      "text/plain": [
       "dtype('int64')"
      ]
     },
     "execution_count": 6,
     "metadata": {},
     "output_type": "execute_result"
    }
   ],
   "source": [
    "arr.dtype"
   ]
  },
  {
   "cell_type": "code",
   "execution_count": 8,
   "metadata": {},
   "outputs": [
    {
     "name": "stdout",
     "output_type": "stream",
     "text": [
      "[0. 0. 0. 0. 0.]\n"
     ]
    }
   ],
   "source": [
    "zero_arr = np.zeros(5)\n",
    "print(zero_arr)"
   ]
  },
  {
   "cell_type": "code",
   "execution_count": 9,
   "metadata": {},
   "outputs": [
    {
     "name": "stdout",
     "output_type": "stream",
     "text": [
      "[[0.00000000e+000 6.92755318e-310 6.92755583e-310 5.39492808e-317]\n",
      " [5.39495970e-317 6.92754733e-310 3.16202013e-322 6.92755587e-310]]\n"
     ]
    }
   ],
   "source": [
    "emp_arr = np.empty((2,4))\n",
    "print(emp_arr)   "
   ]
  },
  {
   "cell_type": "code",
   "execution_count": 12,
   "metadata": {},
   "outputs": [
    {
     "data": {
      "text/plain": [
       "array([ 1.39366828e-316,  1.46633150e-316,  0.00000000e+000, ...,\n",
       "        1.12200246e+000, -1.14369901e-002, -1.41233164e+000])"
      ]
     },
     "execution_count": 12,
     "metadata": {},
     "output_type": "execute_result"
    }
   ],
   "source": [
    "arr1 = np.array(np.random.randn(100000))\n",
    "arr2 = np.array(np.random.randn(100000))\n",
    "new_arr = np.empty(100000)\n",
    "new_arr"
   ]
  },
  {
   "cell_type": "code",
   "execution_count": 13,
   "metadata": {},
   "outputs": [
    {
     "name": "stdout",
     "output_type": "stream",
     "text": [
      "62.552690505981445\n"
     ]
    }
   ],
   "source": [
    "start_time = time.time()\n",
    "for i in range(100000):\n",
    "    new_arr[i] = arr1[i]*arr2[i]\n",
    "end_time = time.time()\n",
    "print((end_time - start_time)*1000)    // 10^-3 sec"
   ]
  },
  {
   "cell_type": "code",
   "execution_count": 14,
   "metadata": {},
   "outputs": [
    {
     "name": "stdout",
     "output_type": "stream",
     "text": [
      "0.5993843078613281\n"
     ]
    }
   ],
   "source": [
    "start = time.time()\n",
    "mul_arr = arr1 * arr2\n",
    "end = time.time()\n",
    "print((end - start)*1000)     // Great time difference (Optimized numpy mult)  vectorised mult"
   ]
  },
  {
   "cell_type": "code",
   "execution_count": 15,
   "metadata": {},
   "outputs": [
    {
     "name": "stdout",
     "output_type": "stream",
     "text": [
      "65.5374526977539\n"
     ]
    }
   ],
   "source": [
    "sub_array = np.empty(100000)\n",
    "start_time = time.time()\n",
    "for i in range(100000):\n",
    "    new_arr[i] = arr1[i]-arr2[i]\n",
    "end_time = time.time()\n",
    "print((end_time-start_time)*1000)"
   ]
  },
  {
   "cell_type": "code",
   "execution_count": 16,
   "metadata": {},
   "outputs": [
    {
     "name": "stdout",
     "output_type": "stream",
     "text": [
      "0.9307861328125\n"
     ]
    }
   ],
   "source": [
    "start_time = time.time()\n",
    "sub_array_vec = arr1 - arr2\n",
    "end_time = time.time()\n",
    "print((end_time-start_time)*1000)"
   ]
  },
  {
   "cell_type": "code",
   "execution_count": 27,
   "metadata": {},
   "outputs": [
    {
     "name": "stdout",
     "output_type": "stream",
     "text": [
      "[1.         0.5        0.33333333 0.25      ]\n",
      "[1.         1.41421356 1.73205081 2.        ]\n",
      "[1.         1.41421356 1.73205081 2.        ]\n",
      "[ 2.71828183  7.3890561  20.08553692 54.59815003]\n"
     ]
    }
   ],
   "source": [
    "arr1 = np.array([1,2,3,4])\n",
    "arr2 = np.array([2,0,1,1])\n",
    "print(1.0/arr1)          # reciprocal\n",
    "print(arr1 ** 0.5)         # exponent\n",
    "print(np.sqrt(arr1)) \n",
    "print(np.exp(arr1))  "
   ]
  },
  {
   "cell_type": "code",
   "execution_count": 31,
   "metadata": {},
   "outputs": [
    {
     "name": "stdout",
     "output_type": "stream",
     "text": [
      "12577.588558197021\n"
     ]
    }
   ],
   "source": [
    "mat1 = np.random.randn(100, 100)\n",
    "mat2 = np.random.randn(100, 1000)\n",
    "\n",
    "res = np.empty((100, 1000))\n",
    "# regular matrix multiplication\n",
    "start = time.time()\n",
    "# iterate through rows of X\n",
    "for i in range(len(mat1)):\n",
    "   # iterate through columns of Y\n",
    "   for j in range(len(mat2[0])):\n",
    "       # iterate through rows of Y\n",
    "       for k in range(len(mat2)):\n",
    "            res[i][j] += mat1[i][k] * mat2[k][j]\n",
    "end = time.time()\n",
    "print((end-start)*1000)"
   ]
  },
  {
   "cell_type": "code",
   "execution_count": 32,
   "metadata": {},
   "outputs": [
    {
     "name": "stdout",
     "output_type": "stream",
     "text": [
      "10.098695755004883\n"
     ]
    }
   ],
   "source": [
    "start = time.time()\n",
    "result = np.matmul(mat1, mat2)\n",
    "end = time.time()\n",
    "print((end-start)*1000)"
   ]
  }
 ],
 "metadata": {
  "kernelspec": {
   "display_name": "Python 3",
   "language": "python",
   "name": "python3"
  },
  "language_info": {
   "codemirror_mode": {
    "name": "ipython",
    "version": 3
   },
   "file_extension": ".py",
   "mimetype": "text/x-python",
   "name": "python",
   "nbconvert_exporter": "python",
   "pygments_lexer": "ipython3",
   "version": "3.5.2"
  }
 },
 "nbformat": 4,
 "nbformat_minor": 2
}
