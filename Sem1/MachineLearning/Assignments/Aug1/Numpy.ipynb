{
 "cells": [
  {
   "cell_type": "code",
   "execution_count": 6,
   "metadata": {},
   "outputs": [
    {
     "data": {
      "text/plain": [
       "'1.15.0'"
      ]
     },
     "execution_count": 6,
     "metadata": {},
     "output_type": "execute_result"
    }
   ],
   "source": [
    "import numpy as np\n",
    "\n",
    "np.__version__"
   ]
  },
  {
   "cell_type": "code",
   "execution_count": 8,
   "metadata": {},
   "outputs": [
    {
     "name": "stdout",
     "output_type": "stream",
     "text": [
      "<class 'int'>\n",
      "<class 'int'>\n",
      "<class 'int'>\n",
      "<class 'int'>\n",
      "<class 'int'>\n",
      "<class 'int'>\n",
      "<class 'int'>\n",
      "<class 'int'>\n",
      "<class 'int'>\n",
      "<class 'int'>\n"
     ]
    }
   ],
   "source": [
    "create_list = list(range(10))\n",
    "\n",
    "def print_item(l):\n",
    "    for item in l:\n",
    "        print(type(item))\n",
    "        \n",
    "\n",
    "print_item(create_list)"
   ]
  },
  {
   "cell_type": "code",
   "execution_count": 11,
   "metadata": {},
   "outputs": [
    {
     "name": "stdout",
     "output_type": "stream",
     "text": [
      "<class 'int'>\n",
      "<class 'str'>\n",
      "<class 'str'>\n",
      "<class 'int'>\n",
      "<class 'dict'>\n",
      "<class 'int'>\n",
      "<class 'tuple'>\n",
      "<class 'bool'>\n"
     ]
    }
   ],
   "source": [
    "list_hetrogeneous = [1, \"2\", \"A\", 3, {\"A\" :3, \"B\":4}, 9, (10, 20, 30, 40), True]\n",
    "\n",
    "print_item(list_hetrogeneous)"
   ]
  },
  {
   "cell_type": "code",
   "execution_count": 12,
   "metadata": {},
   "outputs": [
    {
     "data": {
      "text/plain": [
       "array([['1', '2', '3'],\n",
       "       ['A', 'B', 'C']], dtype='<U21')"
      ]
     },
     "execution_count": 12,
     "metadata": {},
     "output_type": "execute_result"
    }
   ],
   "source": [
    "np.array([[1, 2, 3],\n",
    "         [\"A\", \"B\", \"C\"]])"
   ]
  },
  {
   "cell_type": "code",
   "execution_count": 17,
   "metadata": {},
   "outputs": [
    {
     "data": {
      "text/plain": [
       "array([[1., 0.],\n",
       "       [0., 1.]])"
      ]
     },
     "execution_count": 17,
     "metadata": {},
     "output_type": "execute_result"
    }
   ],
   "source": [
    "np.zeros(5, dtype='int')\n",
    "\n",
    "np.eye(2)"
   ]
  },
  {
   "cell_type": "code",
   "execution_count": 20,
   "metadata": {},
   "outputs": [
    {
     "data": {
      "text/plain": [
       "(5, 5)"
      ]
     },
     "execution_count": 20,
     "metadata": {},
     "output_type": "execute_result"
    }
   ],
   "source": [
    "np.random.seed(10)\n",
    "\n",
    "x = np.random.normal(0, 1, (5,5))\n",
    "x\n",
    "x.shape"
   ]
  },
  {
   "cell_type": "code",
   "execution_count": 21,
   "metadata": {},
   "outputs": [],
   "source": [
    "x = np.array([\"A\", \"B\", \"C\", \"D\", \"E\", \"F\", \"G\"])"
   ]
  },
  {
   "cell_type": "code",
   "execution_count": 25,
   "metadata": {},
   "outputs": [
    {
     "data": {
      "text/plain": [
       "array([10, 11, 12, 13, 14, 15, 16, 17, 18, 19, 20, 21, 22, 23, 24, 25, 26,\n",
       "       27, 28, 29])"
      ]
     },
     "execution_count": 25,
     "metadata": {},
     "output_type": "execute_result"
    }
   ],
   "source": [
    "x = np.arange(10,30)\n",
    "x"
   ]
  },
  {
   "cell_type": "code",
   "execution_count": 26,
   "metadata": {},
   "outputs": [
    {
     "data": {
      "text/plain": [
       "array([29, 28, 27, 26, 25, 24, 23, 22, 21, 20, 19, 18, 17, 16, 15, 14, 13,\n",
       "       12, 11, 10])"
      ]
     },
     "execution_count": 26,
     "metadata": {},
     "output_type": "execute_result"
    }
   ],
   "source": [
    "x[ : : -1]"
   ]
  },
  {
   "cell_type": "code",
   "execution_count": 27,
   "metadata": {},
   "outputs": [
    {
     "data": {
      "text/plain": [
       "array(['1', '2', '3', '4', '5', '6', 'A', 'B', 'C'], dtype='<U21')"
      ]
     },
     "execution_count": 27,
     "metadata": {},
     "output_type": "execute_result"
    }
   ],
   "source": [
    "arr_1 = np.array([1,2,3])\n",
    "arr_2 = np.array([4,5,6])\n",
    "arr_3 = np.array(['A','B', 'C'])\n",
    "\n",
    "np.concatenate([arr_1, arr_2, arr_3])"
   ]
  },
  {
   "cell_type": "code",
   "execution_count": 28,
   "metadata": {},
   "outputs": [
    {
     "name": "stdout",
     "output_type": "stream",
     "text": [
      "[['I' 'Love' 'ML']\n",
      " ['not' 'you' 'girl']]\n"
     ]
    },
    {
     "data": {
      "text/plain": [
       "array([['I', 'Love', 'ML'],\n",
       "       ['not', 'you', 'girl'],\n",
       "       ['I', 'Love', 'ML'],\n",
       "       ['not', 'you', 'girl']], dtype='<U4')"
      ]
     },
     "execution_count": 28,
     "metadata": {},
     "output_type": "execute_result"
    }
   ],
   "source": [
    "matrix = np.array([[\"I\", \"Love\", \"ML\"],[\"not\", \"you\", \"girl\"]])\n",
    "print(matrix)\n",
    "np.concatenate([matrix, matrix])"
   ]
  },
  {
   "cell_type": "code",
   "execution_count": 30,
   "metadata": {},
   "outputs": [
    {
     "name": "stdout",
     "output_type": "stream",
     "text": [
      "[['I' 'Love' 'ML']\n",
      " ['not' 'you' 'girl']\n",
      " ['I' 'Love' 'ML']\n",
      " ['not' 'you' 'girl']]\n",
      " size of concatenated_matrix_axis_0 =  (4, 3)\n"
     ]
    }
   ],
   "source": [
    "concatenated_matrix_axis_0 = np.concatenate([matrix, matrix],axis=0)\n",
    "\n",
    "print(concatenated_matrix_axis_0)\n",
    "\n",
    "print (\" size of concatenated_matrix_axis_0 = \", concatenated_matrix_axis_0.shape)"
   ]
  },
  {
   "cell_type": "code",
   "execution_count": 31,
   "metadata": {},
   "outputs": [
    {
     "name": "stdout",
     "output_type": "stream",
     "text": [
      "[['I' 'Love' 'ML' 'I' 'Love' 'ML']\n",
      " ['not' 'you' 'girl' 'not' 'you' 'girl']]\n",
      "size of concatenated_matrix_axis_1 = (2, 6)\n"
     ]
    }
   ],
   "source": [
    "concatenated_matrix_axis_1 = np.concatenate([matrix, matrix],axis=1)\n",
    "\n",
    "print(concatenated_matrix_axis_1)\n",
    "\n",
    "print (\"size of concatenated_matrix_axis_1 =\", concatenated_matrix_axis_1.shape)"
   ]
  },
  {
   "cell_type": "code",
   "execution_count": 32,
   "metadata": {},
   "outputs": [
    {
     "name": "stdout",
     "output_type": "stream",
     "text": [
      "[[ 9 10 11]\n",
      " [12 13 14]\n",
      " [15 16 17]]\n",
      "Shape of stacked array: (3, 3)\n"
     ]
    }
   ],
   "source": [
    "x = np.array([9, 10, 11])\n",
    "matrix = np.array([[12, 13, 14],[15, 16, 17]])\n",
    "vstack_example = np.vstack([x, matrix])\n",
    "\n",
    "print(vstack_example)\n",
    "print(\"Shape of stacked array:\", vstack_example.shape)"
   ]
  },
  {
   "cell_type": "code",
   "execution_count": 33,
   "metadata": {},
   "outputs": [
    {
     "name": "stdout",
     "output_type": "stream",
     "text": [
      "[[12 13 14  0]\n",
      " [15 16 17  0]]\n",
      "Shape of stacked array: (2, 4)\n"
     ]
    }
   ],
   "source": [
    "z = np.array([[0], [0]])\n",
    "hstack_example = np.hstack([matrix, z])\n",
    "\n",
    "print(hstack_example)\n",
    "print(\"Shape of stacked array:\", hstack_example.shape)"
   ]
  },
  {
   "cell_type": "code",
   "execution_count": 41,
   "metadata": {},
   "outputs": [
    {
     "data": {
      "text/plain": [
       "[array([0, 1, 2, 3]), array([4, 5, 6, 7]), array([ 8,  9, 10, 11])]"
      ]
     },
     "execution_count": 41,
     "metadata": {},
     "output_type": "execute_result"
    }
   ],
   "source": [
    "arr = np.arange(12)\n",
    "\n",
    "np.split(arr,3)"
   ]
  },
  {
   "cell_type": "code",
   "execution_count": 56,
   "metadata": {},
   "outputs": [
    {
     "data": {
      "text/plain": [
       "[array([[7, 5, 7, 9, 6, 7, 5, 4, 9, 9],\n",
       "        [9, 1, 9, 5, 3, 4, 3, 0, 4, 2],\n",
       "        [0, 5, 9, 6, 4, 2, 7, 9, 8, 9],\n",
       "        [7, 9, 0, 4, 8, 7, 9, 2, 7, 0],\n",
       "        [7, 4, 9, 2, 8, 8, 8, 1, 8, 1]]),\n",
       " array([[4, 3, 5, 5, 2, 6, 6, 9, 4, 4],\n",
       "        [0, 8, 9, 2, 8, 5, 8, 0, 9, 7],\n",
       "        [7, 4, 0, 3, 7, 4, 4, 1, 4, 4],\n",
       "        [2, 0, 1, 6, 5, 0, 2, 0, 9, 4],\n",
       "        [3, 8, 7, 6, 9, 8, 8, 7, 9, 7]])]"
      ]
     },
     "execution_count": 56,
     "metadata": {},
     "output_type": "execute_result"
    }
   ],
   "source": [
    "arr2 = np.random.randint(10,size=(10,10))\n",
    "\n",
    "np.vsplit(arr2,2)"
   ]
  }
 ],
 "metadata": {
  "kernelspec": {
   "display_name": "Python 3",
   "language": "python",
   "name": "python3"
  },
  "language_info": {
   "codemirror_mode": {
    "name": "ipython",
    "version": 3
   },
   "file_extension": ".py",
   "mimetype": "text/x-python",
   "name": "python",
   "nbconvert_exporter": "python",
   "pygments_lexer": "ipython3",
   "version": "3.5.2"
  }
 },
 "nbformat": 4,
 "nbformat_minor": 2
}
