{
 "cells": [
  {
   "cell_type": "markdown",
   "metadata": {},
   "source": [
    "### Instructions:\n",
    "\n",
    "    1. Submit your python notebooks in zip format with naming convention as:\n",
    "        \n",
    "            RollNo1_RollNo2_RollNo3.zip\n",
    "            \n",
    "    2. Cheating of any form will not be tolerated.\n",
    "    "
   ]
  },
  {
   "cell_type": "markdown",
   "metadata": {},
   "source": [
    "Fill your Team details here.<br>\n",
    "<br>\n",
    "Format: Roll Number \n",
    " \n",
    "         1.MT2018026\n",
    "         2.MT2018090\n",
    "         3.MT2018116"
   ]
  },
  {
   "cell_type": "markdown",
   "metadata": {},
   "source": [
    "### Question1: Implement Multivariate Linear Regression from scratch. <br>\n",
    "\n",
    "#### Instructions for each cell are provided along with the marks they hold. Fill in the cells with your code"
   ]
  },
  {
   "cell_type": "markdown",
   "metadata": {},
   "source": [
    "Import necessary packages."
   ]
  },
  {
   "cell_type": "code",
   "execution_count": 180,
   "metadata": {},
   "outputs": [],
   "source": [
    "# Import packages\n",
    "\n",
    "# 1 Mark\n",
    "import numpy as np\n",
    "import pandas as pd\n",
    "import matplotlib.pyplot as plt\n",
    "%matplotlib inline\n",
    "import warnings\n",
    "warnings.filterwarnings(\"ignore\")"
   ]
  },
  {
   "cell_type": "markdown",
   "metadata": {},
   "source": [
    "Set the seed value to 40."
   ]
  },
  {
   "cell_type": "code",
   "execution_count": 181,
   "metadata": {},
   "outputs": [],
   "source": [
    "# Set seed value\n",
    "\n",
    "# 1 Mark\n",
    "np.random.seed(40)"
   ]
  },
  {
   "cell_type": "markdown",
   "metadata": {},
   "source": [
    "Before building a linear regression model, we need to generate data. <br>\n",
    "<br>\n",
    "Generate data according to <br>\n",
    "<br>\n",
    "Y = 5*X1 + 6*X2 + 7*X3 + c + delta \n",
    "\n",
    "Generate 100 samples of data."
   ]
  },
  {
   "cell_type": "code",
   "execution_count": 182,
   "metadata": {},
   "outputs": [],
   "source": [
    "# Generate data\n",
    "x1 = np.random.rand(100)\n",
    "\n",
    "x2 = np.random.rand(100)\n",
    "\n",
    "x3 = np.random.rand(100)\n",
    "\n",
    "# constant term\n",
    "c = 10\n",
    "\n",
    "# delta is noise\n",
    "delta = np.random.rand(100)\n",
    "\n",
    "y = 5*x1 + 6*x2 + 7*x3 + delta + c\n",
    "\n",
    "# 3 marks"
   ]
  },
  {
   "cell_type": "markdown",
   "metadata": {},
   "source": [
    "Create an array X which is combination of x1, x2, x3. <br>\n",
    "Remember the shape of X should be (100, 3)"
   ]
  },
  {
   "cell_type": "code",
   "execution_count": 183,
   "metadata": {},
   "outputs": [
    {
     "name": "stdout",
     "output_type": "stream",
     "text": [
      "(100, 3)\n"
     ]
    }
   ],
   "source": [
    "# Create X as mentioned above\n",
    "X =[]\n",
    "for i in range(0,100):\n",
    "    X.append([x1[i],x2[i],x3[i]])\n",
    "X = np.array(X)\n",
    "print(X.shape)\n",
    "\n",
    "# 1 Mark"
   ]
  },
  {
   "cell_type": "markdown",
   "metadata": {},
   "source": [
    "Change the shape of y to (100, 1) to match dimensions."
   ]
  },
  {
   "cell_type": "code",
   "execution_count": 184,
   "metadata": {},
   "outputs": [],
   "source": [
    "# Change the shape of y\n",
    "#print (y)\n",
    "y = y.reshape(-1, 1)\n",
    "\n",
    "# 1 Mark"
   ]
  },
  {
   "cell_type": "markdown",
   "metadata": {},
   "source": [
    "You need to change X to [1, x1, x2, x3] as sir mentioned in the class to get rid of delta term in our equation.\n",
    "\n",
    "    1. Create variable ones with all ones of shape (100, 1).\n",
    "    2. Concatenate it to X."
   ]
  },
  {
   "cell_type": "code",
   "execution_count": 185,
   "metadata": {},
   "outputs": [
    {
     "data": {
      "text/plain": [
       "(100, 3)"
      ]
     },
     "execution_count": 185,
     "metadata": {},
     "output_type": "execute_result"
    }
   ],
   "source": [
    "# Create a varibales ones and X.\n",
    "ones = np.ones(100)\n",
    "ones = ones.reshape(-1, 1)\n",
    "\n",
    "\n",
    "X.shape\n",
    "#ones.shape\n",
    "# 2 Marks\n",
    "#X.shape\n"
   ]
  },
  {
   "cell_type": "code",
   "execution_count": 186,
   "metadata": {},
   "outputs": [],
   "source": [
    "X = np.hstack([ones, X])"
   ]
  },
  {
   "cell_type": "code",
   "execution_count": 187,
   "metadata": {},
   "outputs": [
    {
     "data": {
      "text/plain": [
       "array([1.        , 0.40768703, 0.71076876, 0.00964108])"
      ]
     },
     "execution_count": 187,
     "metadata": {},
     "output_type": "execute_result"
    }
   ],
   "source": [
    "X[0]"
   ]
  },
  {
   "cell_type": "markdown",
   "metadata": {},
   "source": [
    "Create the indices for training, validation and testing"
   ]
  },
  {
   "cell_type": "code",
   "execution_count": 188,
   "metadata": {},
   "outputs": [],
   "source": [
    "# Get indices of samples for training, validation and testing\n",
    "indices = np.random.permutation(x.shape[0])\n",
    "training_idx, val_idx, test_idx = indices[:60], indices[20:80], indices[80:100]\n",
    "# 2 Marks"
   ]
  },
  {
   "cell_type": "markdown",
   "metadata": {},
   "source": [
    "Split data into:\n",
    "    1. Training data. (X_train, y_train)\n",
    "    2. Validation data. (X_val, y_val)\n",
    "    3. Testing data. (X_test, y_test)"
   ]
  },
  {
   "cell_type": "code",
   "execution_count": 189,
   "metadata": {},
   "outputs": [],
   "source": [
    "# Split x into training and testing data\n",
    "x_train = X[training_idx]\n",
    "x_val = X[val_idx]\n",
    "x_test = X[test_idx]\n",
    "\n",
    "# Split y into training and testing data\n",
    "y_train = y[training_idx]\n",
    "y_val = y[val_idx]\n",
    "y_test = y[test_idx]\n",
    "\n",
    "# 2 Marks"
   ]
  },
  {
   "cell_type": "markdown",
   "metadata": {},
   "source": [
    "Define Initialize function to initialize weight matrix.\n",
    "\n",
    "    Input: shape of the matrix.\n",
    "    Output: weight matrix."
   ]
  },
  {
   "cell_type": "code",
   "execution_count": 190,
   "metadata": {},
   "outputs": [],
   "source": [
    "def Initialize(shape):                             # Expecting the input shape as (100,x) so we need to genrate x-1 weights\n",
    "    w =[]                                        # since first 1 is constant\n",
    "    for i in range(shape[1]-1):\n",
    "        w.append(float(np.random.rand(1)))\n",
    "    \n",
    "    w = np.array(w)\n",
    "    print(w)\n",
    "    return w\n",
    "    ##Write your code here.\n",
    "    \n",
    "# 3 Marks"
   ]
  },
  {
   "cell_type": "markdown",
   "metadata": {},
   "source": [
    "Define loss function which is RMSE. \n",
    "\n",
    "    Input: X, y, theta (weight matrix).\n",
    "    Output: loss."
   ]
  },
  {
   "cell_type": "code",
   "execution_count": 191,
   "metadata": {},
   "outputs": [],
   "source": [
    "# Loss function\n",
    "def loss(X,y,w):\n",
    "    sum  = 0\n",
    "    for i in range (0,X.shape[0]):\n",
    "        sum = sum + np.square(y[i] - (w[0]*X[i][1]+w[1]*X[i][2]+w[2]*X[i][3]))\n",
    "        \n",
    "    return np.sqrt(sum/X.shape[0])\n",
    "\n",
    "    ##Write your code here.\n",
    "    \n",
    "# 3 Marks"
   ]
  },
  {
   "cell_type": "markdown",
   "metadata": {},
   "source": [
    "Define get_grad function to get gradients of loss function with respect to weight matrix.\n",
    "\n",
    "    Input: X, y, theta (weight matrix).\n",
    "    Ouput: gradients with respect to theta (weight matrix)."
   ]
  },
  {
   "cell_type": "code",
   "execution_count": 192,
   "metadata": {},
   "outputs": [],
   "source": [
    "def get_grad(X, y, w):\n",
    "    w1_grad = []\n",
    "    w2_grad = []\n",
    "    w3_grad = []\n",
    "#     print(\"w before\")\n",
    "#     print(w)\n",
    "#     print(\"w1_grad before\")\n",
    "#     print(w1_grad)\n",
    "    for i in range (0,X.shape[0]):\n",
    "        w1_grad.append(((y[i] - (w[0]*X[i][1]+w[1]*X[i][2]+w[2]*X[i][3]))*(-X[i][1])))\n",
    "        w2_grad.append(((y[i] - (w[0]*X[i][1]+w[1]*X[i][2]+w[2]*X[i][3]+c))*(-X[i][2])))\n",
    "        w3_grad.append(((y[i] - (w[0]*X[i][1]+w[1]*X[i][2]+w[2]*X[i][3]+c))*(-X[i][3])))\n",
    "    \n",
    "    w1 = np.mean(w1_grad)\n",
    "    w2 = np.mean(w2_grad)\n",
    "    w3 = np.mean(w3_grad)\n",
    "#     print(\"w after\")\n",
    "#     print(w)\n",
    "#     print(\"w1_grad after\")\n",
    "#     print(w1_grad)\n",
    "    w = np.array([w1, w2 , w3])\n",
    "    return  w\n",
    "    ##Write your code here.\n",
    "    \n",
    "# 5 Marks"
   ]
  },
  {
   "cell_type": "markdown",
   "metadata": {},
   "source": [
    "Initialize weight matrix using Initialize function defined above."
   ]
  },
  {
   "cell_type": "code",
   "execution_count": 193,
   "metadata": {},
   "outputs": [
    {
     "name": "stdout",
     "output_type": "stream",
     "text": [
      "[0.57451855 0.12969023 0.31063292]\n"
     ]
    },
    {
     "data": {
      "text/plain": [
       "array([0.57451855, 0.12969023, 0.31063292])"
      ]
     },
     "execution_count": 193,
     "metadata": {},
     "output_type": "execute_result"
    }
   ],
   "source": [
    "# Initialize theta with necessary shape\n",
    "theta = Initialize(X.shape)\n",
    "theta\n",
    "\n",
    "# 1 Mark"
   ]
  },
  {
   "cell_type": "markdown",
   "metadata": {},
   "source": [
    "Set following hyperparameters. \n",
    "\n",
    "    1. alpha (learning_rate) to 0.01 \n",
    "    2. NoOfEpochs (no of epochs) to 1000"
   ]
  },
  {
   "cell_type": "code",
   "execution_count": 194,
   "metadata": {},
   "outputs": [],
   "source": [
    "# Set hyper parameters\n",
    "alpha = 0.01\n",
    "NoOfEpochs =  1000\n",
    "\n",
    "# 1 Mark"
   ]
  },
  {
   "cell_type": "markdown",
   "metadata": {},
   "source": [
    "Create following variables with zeros to store training and validation loss. <br>\n",
    "    1. loss_train (variable for training loss)\n",
    "    2. loss_val (variable for validation loss"
   ]
  },
  {
   "cell_type": "code",
   "execution_count": 195,
   "metadata": {},
   "outputs": [],
   "source": [
    "# Create loss_train and loss_val\n",
    "loss_train = 0\n",
    "loss_val =  0\n",
    "\n",
    "# 2 Marks"
   ]
  },
  {
   "cell_type": "markdown",
   "metadata": {},
   "source": [
    "It's time to update weight matrix using above defined functions. Store training and validation loss in loss_train and loss_val."
   ]
  },
  {
   "cell_type": "code",
   "execution_count": 196,
   "metadata": {},
   "outputs": [],
   "source": [
    "loss_val_vec = []; loss_train_vec = []\n",
    "\n",
    "\n",
    "for i in range(NoOfEpochs):\n",
    "    \n",
    "    w_grad = get_grad(x_train, y_train, theta)\n",
    "    theta[0] = theta[0] - alpha * w_grad[0]\n",
    "    theta[1] = theta[1] - alpha * w_grad[1]\n",
    "    theta[2] = theta[2] - alpha * w_grad[2]\n",
    "        \n",
    "    loss_train = loss(x_train, y_train, theta)\n",
    "    loss_val = loss(x_val , y_val ,theta) \n",
    "    # Update theta by using alpha and get_grad function\n",
    "     \n",
    "    # Append loss on training set to loss_train\n",
    "    loss_val_vec.append(loss_val)\n",
    "    loss_train_vec.append(loss_train)\n",
    "    \n",
    "    # Append loss on validation set to loss_val\n",
    "    \n",
    "# 5 Marks"
   ]
  },
  {
   "cell_type": "markdown",
   "metadata": {},
   "source": [
    "Visualize traning and validation loss with number of iterations."
   ]
  },
  {
   "cell_type": "code",
   "execution_count": 197,
   "metadata": {},
   "outputs": [
    {
     "data": {
      "image/png": "[encoded data removed]",
      "text/plain": [
       "<Figure size 720x360 with 1 Axes>"
      ]
     },
     "metadata": {},
     "output_type": "display_data"
    }
   ],
   "source": [
    "# Visualize loss with number of iterations\n",
    "plt.figure(figsize=(10,5))\n",
    "plt.plot(loss_val_vec, \"r.\", label = \"Validation Loss\")\n",
    "plt.plot(loss_train_vec, \"b.\", label = \"Training Loss\")\n",
    "plt.title('Change in loss with iterations')\n",
    "plt.xlabel(\"Number of iterations\")\n",
    "plt.ylabel(\"loss\")\n",
    "plt.legend(); plt.show()\n",
    "# 5 Marks"
   ]
  },
  {
   "cell_type": "markdown",
   "metadata": {},
   "source": [
    "Check the values of theta."
   ]
  },
  {
   "cell_type": "code",
   "execution_count": 198,
   "metadata": {},
   "outputs": [
    {
     "data": {
      "text/plain": [
       "array([29.76022221, -2.24086208, -3.89187657])"
      ]
     },
     "execution_count": 198,
     "metadata": {},
     "output_type": "execute_result"
    }
   ],
   "source": [
    "theta"
   ]
  },
  {
   "cell_type": "markdown",
   "metadata": {},
   "source": [
    "Print loss on training, validation and testing data."
   ]
  },
  {
   "cell_type": "code",
   "execution_count": 199,
   "metadata": {},
   "outputs": [
    {
     "name": "stdout",
     "output_type": "stream",
     "text": [
      "Loss on training data is:  [10.98713567]\n",
      "Loss on validation data is:  [10.56280821]\n",
      "Loss on test data is:  [9.15394359]\n"
     ]
    }
   ],
   "source": [
    "loss_test = loss(x_test, y_test, theta)\n",
    "print(\"Loss on training data is: \",  loss_train)\n",
    "print(\"Loss on validation data is: \", loss_val)\n",
    "print(\"Loss on test data is: \", loss_test)\n",
    "# 2 Mark`"
   ]
  }
 ],
 "metadata": {
  "kernelspec": {
   "display_name": "Python 3",
   "language": "python",
   "name": "python3"
  },
  "language_info": {
   "codemirror_mode": {
    "name": "ipython",
    "version": 3
   },
   "file_extension": ".py",
   "mimetype": "text/x-python",
   "name": "python",
   "nbconvert_exporter": "python",
   "pygments_lexer": "ipython3",
   "version": "3.5.2"
  }
 },
 "nbformat": 4,
 "nbformat_minor": 2
}
