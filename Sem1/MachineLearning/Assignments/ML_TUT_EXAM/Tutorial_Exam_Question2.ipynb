{
 "cells": [
  {
   "cell_type": "markdown",
   "metadata": {},
   "source": [
    "### Instructions:\n",
    "\n",
    "    1. Submit your python notebooks in zip format with naming convention as:\n",
    "        \n",
    "            RollNo1_RollNo2_RollNo3.zip\n",
    "            \n",
    "    2. Cheating of any form will not be tolerated."
   ]
  },
  {
   "cell_type": "markdown",
   "metadata": {},
   "source": [
    "Fill your Team details here.<br>\n",
    "<br>\n",
    "Format: Roll Number\n",
    " \n",
    "         1.MT2018090\n",
    "         2.MT2018116\n",
    "         3.MT2018026"
   ]
  },
  {
   "cell_type": "markdown",
   "metadata": {},
   "source": [
    "### Question: You need to build Logistic Regression from scratch using training set of Titanic dataset."
   ]
  },
  {
   "cell_type": "markdown",
   "metadata": {},
   "source": [
    "#### Instructions for each cell are provided, along with the marks they hold. Fill in the cells with your code"
   ]
  },
  {
   "cell_type": "markdown",
   "metadata": {},
   "source": [
    "Import necessary packages."
   ]
  },
  {
   "cell_type": "code",
   "execution_count": 5,
   "metadata": {},
   "outputs": [
    {
     "name": "stderr",
     "output_type": "stream",
     "text": [
      "/usr/lib/python3.5/importlib/_bootstrap.py:222: RuntimeWarning: numpy.dtype size changed, may indicate binary incompatibility. Expected 96, got 88\n",
      "  return f(*args, **kwds)\n",
      "/usr/lib/python3.5/importlib/_bootstrap.py:222: RuntimeWarning: numpy.dtype size changed, may indicate binary incompatibility. Expected 96, got 88\n",
      "  return f(*args, **kwds)\n",
      "/home/shuvambosana/.local/lib/python3.5/site-packages/sklearn/cross_validation.py:41: DeprecationWarning: This module was deprecated in version 0.18 in favor of the model_selection module into which all the refactored classes and functions are moved. Also note that the interface of the new CV iterators are different from that of this module. This module will be removed in 0.20.\n",
      "  \"This module will be removed in 0.20.\", DeprecationWarning)\n",
      "/usr/lib/python3.5/importlib/_bootstrap.py:222: RuntimeWarning: numpy.dtype size changed, may indicate binary incompatibility. Expected 96, got 88\n",
      "  return f(*args, **kwds)\n"
     ]
    }
   ],
   "source": [
    "# Import necessary packages\n",
    "import pandas as pd\n",
    "import numpy as np\n",
    "from sklearn.preprocessing import LabelEncoder, OneHotEncoder\n",
    "from sklearn.cross_validation import train_test_split\n",
    "from sklearn.model_selection import train_test_split\n",
    "import time\n",
    "import random\n",
    "import warnings\n",
    "import matplotlib.pyplot as plt\n",
    "warnings.filterwarnings(\"ignore\")\n",
    "from sklearn.metrics import roc_curve, auc\n",
    "# 1 Mark"
   ]
  },
  {
   "cell_type": "markdown",
   "metadata": {},
   "source": [
    "Set seed value to 100."
   ]
  },
  {
   "cell_type": "code",
   "execution_count": 6,
   "metadata": {},
   "outputs": [],
   "source": [
    "# Set seed value to 100.\n",
    "np.random.seed(100)\n",
    "# 1 Mark"
   ]
  },
  {
   "cell_type": "markdown",
   "metadata": {},
   "source": [
    "Load the \"train.csv\" dataset. You will be using the same file for sampling training and testing points."
   ]
  },
  {
   "cell_type": "code",
   "execution_count": 7,
   "metadata": {},
   "outputs": [
    {
     "data": {
      "text/plain": [
       "PassengerId                          12\n",
       "Survived                              1\n",
       "Pclass                                1\n",
       "Name           Bonnell, Miss. Elizabeth\n",
       "Sex                              female\n",
       "Age                                  58\n",
       "SibSp                                 0\n",
       "Parch                                 0\n",
       "Ticket                           113783\n",
       "Fare                              26.55\n",
       "Cabin                              C103\n",
       "Embarked                              S\n",
       "Name: 11, dtype: object"
      ]
     },
     "execution_count": 7,
     "metadata": {},
     "output_type": "execute_result"
    }
   ],
   "source": [
    "# Load train.csv dataset\n",
    "data=pd.read_csv(\"train.csv\")\n",
    "data.shape\n",
    "data.loc[11]\n",
    "# 2 Marks"
   ]
  },
  {
   "cell_type": "markdown",
   "metadata": {},
   "source": [
    "Remove all missing rows and columns from the dataset."
   ]
  },
  {
   "cell_type": "code",
   "execution_count": 8,
   "metadata": {},
   "outputs": [
    {
     "data": {
      "text/plain": [
       "(183, 12)"
      ]
     },
     "execution_count": 8,
     "metadata": {},
     "output_type": "execute_result"
    }
   ],
   "source": [
    "# use dropna() to remove null values from data\n",
    "newData=data.dropna()\n",
    "newData.shape\n",
    "# 1 Mark"
   ]
  },
  {
   "cell_type": "markdown",
   "metadata": {},
   "source": [
    "Select following features from dataset. <br>\n",
    "\n",
    "        1. Sex\n",
    "        2. Age\n",
    "        3. Survived"
   ]
  },
  {
   "cell_type": "code",
   "execution_count": 9,
   "metadata": {},
   "outputs": [
    {
     "data": {
      "text/plain": [
       "Index(['PassengerId', 'Survived', 'Pclass', 'Name', 'Sex', 'Age', 'SibSp',\n",
       "       'Parch', 'Ticket', 'Fare', 'Cabin', 'Embarked'],\n",
       "      dtype='object')"
      ]
     },
     "execution_count": 9,
     "metadata": {},
     "output_type": "execute_result"
    }
   ],
   "source": [
    "data.columns"
   ]
  },
  {
   "cell_type": "code",
   "execution_count": 10,
   "metadata": {},
   "outputs": [
    {
     "name": "stdout",
     "output_type": "stream",
     "text": [
      "<class 'pandas.core.frame.DataFrame'>\n",
      "Int64Index: 183 entries, 1 to 889\n",
      "Data columns (total 3 columns):\n",
      "Survived    183 non-null int64\n",
      "Sex         183 non-null object\n",
      "Age         183 non-null float64\n",
      "dtypes: float64(1), int64(1), object(1)\n",
      "memory usage: 5.7+ KB\n"
     ]
    }
   ],
   "source": [
    "# Select Sex, Age, Survived columns.\n",
    "finalData=newData.drop(['PassengerId', 'Pclass', 'Name', 'SibSp',\n",
    "       'Parch', 'Ticket', 'Fare', 'Cabin', 'Embarked'],axis=1)\n",
    "finalData.info()\n",
    "# 1 Mark"
   ]
  },
  {
   "cell_type": "markdown",
   "metadata": {},
   "source": [
    "The target variable to be predicted is whether a person will \"survive\" the Titanic tragedy or not.\n",
    "\n",
    "Store the target 'Survived' in 'y' variable and other variables in 'X'."
   ]
  },
  {
   "cell_type": "code",
   "execution_count": 11,
   "metadata": {},
   "outputs": [],
   "source": [
    "# Store 'Survived' in y variable and other variables in X.\n",
    "X = finalData.drop(['Survived'],axis=1)\n",
    "y = finalData['Survived']\n",
    "# X.info()\n",
    "# y\n",
    "# 2 Marks"
   ]
  },
  {
   "cell_type": "markdown",
   "metadata": {},
   "source": [
    "The values in the 'Sex' column are 'Male/Female'. So convert them into 1/0 using Label Encoding."
   ]
  },
  {
   "cell_type": "code",
   "execution_count": 12,
   "metadata": {},
   "outputs": [],
   "source": [
    "le = LabelEncoder()\n",
    "\n",
    "X['Sex'] = le.fit_transform(finalData.Sex) \n",
    "\n",
    "# 1 Mark"
   ]
  },
  {
   "cell_type": "code",
   "execution_count": 13,
   "metadata": {},
   "outputs": [],
   "source": [
    "#X['Sex']"
   ]
  },
  {
   "cell_type": "markdown",
   "metadata": {},
   "source": [
    "Split the dataset into train and test with a test size of 20% of total dataset."
   ]
  },
  {
   "cell_type": "code",
   "execution_count": 14,
   "metadata": {},
   "outputs": [
    {
     "data": {
      "text/plain": [
       "<bound method IndexOpsMixin.value_counts of 297    0\n",
       "456    1\n",
       "581    0\n",
       "871    0\n",
       "268    0\n",
       "789    1\n",
       "193    1\n",
       "867    1\n",
       "730    0\n",
       "585    0\n",
       "97     1\n",
       "540    0\n",
       "625    1\n",
       "66     0\n",
       "390    1\n",
       "11     0\n",
       "473    0\n",
       "92     1\n",
       "177    0\n",
       "118    1\n",
       "462    1\n",
       "558    0\n",
       "609    0\n",
       "453    1\n",
       "269    0\n",
       "781    0\n",
       "429    1\n",
       "307    0\n",
       "251    0\n",
       "765    0\n",
       "583    1\n",
       "209    1\n",
       "245    1\n",
       "311    0\n",
       "102    1\n",
       "21     1\n",
       "516    0\n",
       "Name: Sex, dtype: int64>"
      ]
     },
     "execution_count": 14,
     "metadata": {},
     "output_type": "execute_result"
    }
   ],
   "source": [
    "# Split dataset into train and test\n",
    "\n",
    "X_train, X_test, y_train, y_test = train_test_split(X,y,test_size=0.2,random_state=1)\n",
    "\n",
    "X_test['Sex'].value_counts\n",
    "\n",
    "# 2 Marks"
   ]
  },
  {
   "cell_type": "code",
   "execution_count": 15,
   "metadata": {},
   "outputs": [
    {
     "data": {
      "text/plain": [
       "(146, 2)"
      ]
     },
     "execution_count": 15,
     "metadata": {},
     "output_type": "execute_result"
    }
   ],
   "source": [
    "X_train.shape"
   ]
  },
  {
   "cell_type": "code",
   "execution_count": 16,
   "metadata": {},
   "outputs": [],
   "source": [
    "_x_=np.array(X_train)\n",
    "_ones = np.ones(X_train.shape[0])\n",
    "_ones = _ones.reshape(-1, 1)\n",
    "X_train = np.hstack([_ones,X_train])"
   ]
  },
  {
   "cell_type": "code",
   "execution_count": 17,
   "metadata": {},
   "outputs": [],
   "source": [
    "_x_=np.array(X_test)\n",
    "_ones = np.ones(X_test.shape[0])\n",
    "_ones = _ones.reshape(-1, 1)\n",
    "X_test = np.hstack([_ones,X_test])"
   ]
  },
  {
   "cell_type": "code",
   "execution_count": 18,
   "metadata": {},
   "outputs": [
    {
     "data": {
      "text/plain": [
       "array([[ 1.,  1., 32.],\n",
       "       [ 1.,  0., 18.],\n",
       "       [ 1.,  0., 57.],\n",
       "       [ 1.,  1., 48.],\n",
       "       [ 1.,  0., 52.],\n",
       "       [ 1.,  0., 50.],\n",
       "       [ 1.,  0., 24.],\n",
       "       [ 1.,  0., 49.],\n",
       "       [ 1.,  1., 45.],\n",
       "       [ 1.,  0., 35.]])"
      ]
     },
     "execution_count": 18,
     "metadata": {},
     "output_type": "execute_result"
    }
   ],
   "source": [
    "X_train[0:10]"
   ]
  },
  {
   "cell_type": "markdown",
   "metadata": {},
   "source": [
    "Convert X_train, y_train, X_test, y_test into numpy arrays."
   ]
  },
  {
   "cell_type": "code",
   "execution_count": 19,
   "metadata": {},
   "outputs": [],
   "source": [
    "X_train = np.array(X_train)\n",
    "y_train = np.array(y_train).reshape(-1,1)\n",
    "\n",
    "X_test = np.array(X_test)\n",
    "y_test = np.array(y_test).reshape(-1,1)\n",
    "\n",
    "\n",
    "\n",
    "# 2 Marks"
   ]
  },
  {
   "cell_type": "markdown",
   "metadata": {},
   "source": [
    "Define sigmoid function. <br>\n",
    "        \n",
    "           1. Input: An array.\n",
    "           2. Output: Sigmoid of Input."
   ]
  },
  {
   "cell_type": "code",
   "execution_count": 20,
   "metadata": {},
   "outputs": [],
   "source": [
    "def sigmoid(z):\n",
    "    return (1.0/(1+np.exp(-z)))\n",
    "    \n",
    "# 3 Marks"
   ]
  },
  {
   "cell_type": "code",
   "execution_count": 21,
   "metadata": {},
   "outputs": [
    {
     "name": "stdout",
     "output_type": "stream",
     "text": [
      "[0.73105858 0.73105858]\n"
     ]
    }
   ],
   "source": [
    "a=np.ones(2)\n",
    "print(sigmoid(a))"
   ]
  },
  {
   "cell_type": "markdown",
   "metadata": {},
   "source": [
    "Define loss function for logistic regression.\n",
    "\n",
    "y is the label value"
   ]
  },
  {
   "cell_type": "code",
   "execution_count": 22,
   "metadata": {},
   "outputs": [],
   "source": [
    "def loss(h, y):\n",
    "    return np.mean((-1)*(y.T.dot(np.log(h))+(1-(y.T)).dot(np.log(1-h))))\n",
    "# 3 Marks"
   ]
  },
  {
   "cell_type": "markdown",
   "metadata": {},
   "source": [
    "Create a class for Logistic Regression function. <br>\n",
    "\n",
    "            Input X, y, NumberOfIterations, LearningRate.\n",
    "            Output: Updated weights."
   ]
  },
  {
   "cell_type": "code",
   "execution_count": 23,
   "metadata": {},
   "outputs": [],
   "source": [
    "def LogisticRegression(X, y, NumberOfIterations, threshold, LearningRate):        \n",
    "   \n",
    "    # Initialize weights randomly\n",
    "    weights = np.array([np.random.rand(1),np.random.rand(1),np.random.rand(1)])\n",
    "    #X_transpose=np.transpose(X)\n",
    "\n",
    "    for i in range(NumberOfIterations):\n",
    "\n",
    "        # Forward pass\n",
    "        Z = np.dot(X,weights)\n",
    "        A = sigmoid(Z)\n",
    "        map(lambda x : 1 if x>=threshold else 0,A)\n",
    "        #print(A.shape)\n",
    "        # Loss Computation\n",
    "        J = loss(A, y)\n",
    "        #print(J)\n",
    "        # Gradient computation\n",
    "    #         dZ = A - y\n",
    "        dZ = (np.dot(X.T,(A - y)) / y.shape[0])\n",
    "        dweights = LearningRate * dZ\n",
    "\n",
    "        # Update weights\n",
    "        weights = weights - dweights\n",
    "\n",
    "        # Printing loss after every 100 iterations\n",
    "        if(i % 100 == 0):\n",
    "            print('loss:' + str(J) + '\\t')\n",
    "    return weights\n",
    "\n",
    "# 8 Marks"
   ]
  },
  {
   "cell_type": "markdown",
   "metadata": {},
   "source": [
    "Define prediction function. <br>\n",
    "\n",
    "        Input: X, threshold, weights.\n",
    "        Output: Corresponding labels for data."
   ]
  },
  {
   "cell_type": "code",
   "execution_count": 24,
   "metadata": {},
   "outputs": [],
   "source": [
    "def predict(X, threshold, weights):\n",
    "    print(weights.shape)\n",
    "    print(X.shape)\n",
    "    _y = np.dot(X,weights)\n",
    "    print(_y)\n",
    "    pr=np.array(sigmoid(_y))\n",
    "    print(pr)\n",
    "    res =[]\n",
    "    for i in pr:\n",
    "        if i>threshold:\n",
    "            res.append(1)\n",
    "        else:\n",
    "            res.append(0)\n",
    "    #map(lambda x : 1 if x>=threshold else 0,pr)\n",
    "    print(res)\n",
    "    return res\n",
    "# 3 Marks"
   ]
  },
  {
   "cell_type": "markdown",
   "metadata": {},
   "source": [
    "Call LogisticRegression function with following inputs to train on training set.\n",
    "\n",
    "    1. X_train\n",
    "    2. y_train\n",
    "    3. NumberOfIterations = 1000\n",
    "    4. LearningRate = 0.1"
   ]
  },
  {
   "cell_type": "code",
   "execution_count": 25,
   "metadata": {},
   "outputs": [
    {
     "name": "stdout",
     "output_type": "stream",
     "text": [
      "loss:879.1407233480556\t\n",
      "loss:nan\t\n",
      "loss:nan\t\n",
      "loss:206.90566684795112\t\n",
      "loss:2188.5050585061445\t\n",
      "loss:701.1248705702527\t\n",
      "loss:1935.920599177792\t\n",
      "loss:480.15976480620776\t\n",
      "loss:nan\t\n",
      "loss:284.3336381746809\t\n",
      "[[ 5.89779354]\n",
      " [-7.78381277]\n",
      " [ 1.53262467]]\n"
     ]
    }
   ],
   "source": [
    "# Call  LogisticRegression function and store weights in model.\n",
    "NumberOfIterations=1000\n",
    "LearningRate=0.1\n",
    "model = LogisticRegression(X_train,y_train,NumberOfIterations,0.5,LearningRate)\n",
    "print(model)"
   ]
  },
  {
   "cell_type": "markdown",
   "metadata": {},
   "source": [
    "Make predictions on testing data. Store predictions in preds variable."
   ]
  },
  {
   "cell_type": "code",
   "execution_count": 26,
   "metadata": {},
   "outputs": [
    {
     "name": "stdout",
     "output_type": "stream",
     "text": [
      "(3, 1)\n",
      "(37, 3)\n",
      "[[ 8.96304289]\n",
      " [97.73458463]\n",
      " [65.67015585]\n",
      " [77.93115325]\n",
      " [94.79002467]\n",
      " [68.61471581]\n",
      " [ 2.7118548 ]\n",
      " [45.62534569]\n",
      " [50.34390911]\n",
      " [33.48503768]\n",
      " [33.36434829]\n",
      " [61.07228183]\n",
      " [91.60408593]\n",
      " [50.34390911]\n",
      " [53.28846906]\n",
      " [94.79002467]\n",
      " [41.14816106]\n",
      " [68.61471581]\n",
      " [82.52902728]\n",
      " [34.89697297]\n",
      " [70.14734049]\n",
      " [65.67015585]\n",
      " [67.20278053]\n",
      " [73.21258984]\n",
      " [59.53965715]\n",
      " [31.95241301]\n",
      " [47.15797036]\n",
      " [31.95241301]\n",
      " [50.34390911]\n",
      " [84.06165195]\n",
      " [53.28846906]\n",
      " [59.41896776]\n",
      " [65.54946646]\n",
      " [33.48503768]\n",
      " [30.29909894]\n",
      " [50.22321971]\n",
      " [58.00703248]]\n",
      "[[0.99987196]\n",
      " [1.        ]\n",
      " [1.        ]\n",
      " [1.        ]\n",
      " [1.        ]\n",
      " [1.        ]\n",
      " [0.93772255]\n",
      " [1.        ]\n",
      " [1.        ]\n",
      " [1.        ]\n",
      " [1.        ]\n",
      " [1.        ]\n",
      " [1.        ]\n",
      " [1.        ]\n",
      " [1.        ]\n",
      " [1.        ]\n",
      " [1.        ]\n",
      " [1.        ]\n",
      " [1.        ]\n",
      " [1.        ]\n",
      " [1.        ]\n",
      " [1.        ]\n",
      " [1.        ]\n",
      " [1.        ]\n",
      " [1.        ]\n",
      " [1.        ]\n",
      " [1.        ]\n",
      " [1.        ]\n",
      " [1.        ]\n",
      " [1.        ]\n",
      " [1.        ]\n",
      " [1.        ]\n",
      " [1.        ]\n",
      " [1.        ]\n",
      " [1.        ]\n",
      " [1.        ]\n",
      " [1.        ]]\n",
      "[1, 1, 1, 1, 1, 1, 1, 1, 1, 1, 1, 1, 1, 1, 1, 1, 1, 1, 1, 1, 1, 1, 1, 1, 1, 1, 1, 1, 1, 1, 1, 1, 1, 1, 1, 1, 1]\n"
     ]
    }
   ],
   "source": [
    "# Store predictions in preds variable.\n",
    "threshold = 0.5\n",
    "preds = predict(X_test,threshold,model)\n",
    "#print(preds)\n",
    "# 1 Mark"
   ]
  },
  {
   "cell_type": "markdown",
   "metadata": {},
   "source": [
    "Compute the accuracy on test dataset given y_test (in the beginning)"
   ]
  },
  {
   "cell_type": "code",
   "execution_count": 27,
   "metadata": {},
   "outputs": [
    {
     "data": {
      "text/plain": [
       "64.86486486486487"
      ]
     },
     "execution_count": 27,
     "metadata": {},
     "output_type": "execute_result"
    }
   ],
   "source": [
    "#y_test preds\n",
    "c = 0\n",
    "for i in range(y_test.shape[0]):\n",
    "    if (y_test[i] == preds[i]):\n",
    "        c+=1;\n",
    "Accuracy = (c*100)/y_test.shape[0]\n",
    "Accuracy\n",
    "\n",
    "# 1 Mark"
   ]
  },
  {
   "cell_type": "code",
   "execution_count": 30,
   "metadata": {},
   "outputs": [
    {
     "data": {
      "text/plain": [
       "(183,)"
      ]
     },
     "execution_count": 30,
     "metadata": {},
     "output_type": "execute_result"
    }
   ],
   "source": [
    "y.shape"
   ]
  },
  {
   "cell_type": "markdown",
   "metadata": {},
   "source": [
    "What is the reason behind such low accuracy? What do you think are possible ways of improving it?"
   ]
  },
  {
   "cell_type": "code",
   "execution_count": 28,
   "metadata": {},
   "outputs": [
    {
     "ename": "SyntaxError",
     "evalue": "invalid syntax (<ipython-input-28-b940f7df8dcd>, line 2)",
     "output_type": "error",
     "traceback": [
      "\u001b[0;36m  File \u001b[0;32m\"<ipython-input-28-b940f7df8dcd>\"\u001b[0;36m, line \u001b[0;32m2\u001b[0m\n\u001b[0;31m    The reason for such a low accuracy is that we have discarded most of the attributes without suitable exploration of\u001b[0m\n\u001b[0m             ^\u001b[0m\n\u001b[0;31mSyntaxError\u001b[0m\u001b[0;31m:\u001b[0m invalid syntax\n"
     ]
    }
   ],
   "source": [
    "# 2 Marks for answering above question. Type out the answer below.\n",
    "The reason for such a low accuracy is that we have discarded most of the attributes without suitable exploration of \n",
    "how it is correlated with the predication value,i.e.,'Survived' feature. Moreover due to discarding all the null values, \n",
    "our dataset has shrunk to almost one-third. So instead of dropping those values, we should have replaced it with suitable \n",
    "values rather than plainly discarding it.\n"
   ]
  },
  {
   "cell_type": "markdown",
   "metadata": {},
   "source": [
    "Type Here!"
   ]
  },
  {
   "cell_type": "markdown",
   "metadata": {},
   "source": [
    "Plot ROC Curve for the model."
   ]
  },
  {
   "cell_type": "code",
   "execution_count": 32,
   "metadata": {},
   "outputs": [
    {
     "data": {
      "image/png": "[encoded data removed]",
      "text/plain": [
       "<Figure size 432x288 with 1 Axes>"
      ]
     },
     "metadata": {},
     "output_type": "display_data"
    }
   ],
   "source": [
    "from sklearn.metrics import roc_curve, auc\n",
    "fpr = dict()\n",
    "tpr = dict()\n",
    "roc_auc = dict()\n",
    "for i in range(2):\n",
    "    fpr[i], tpr[i], _ = roc_curve(y_test, preds)\n",
    "    roc_auc[i] = auc(fpr[i], tpr[i])\n",
    "\n",
    "#print(roc_auc_score(y_test, preds))\n",
    "plt.figure()\n",
    "plt.plot(fpr[1], tpr[1])\n",
    "plt.xlim([0.0, 1.0])\n",
    "plt.ylim([0.0, 1.05])\n",
    "plt.xlabel('False Positive Rate')\n",
    "plt.ylabel('True Positive Rate')\n",
    "plt.title('Receiver operating characteristic')\n",
    "plt.show()\n",
    "# 5 Marks"
   ]
  },
  {
   "cell_type": "code",
   "execution_count": null,
   "metadata": {},
   "outputs": [],
   "source": []
  }
 ],
 "metadata": {
  "kernelspec": {
   "display_name": "Python 3",
   "language": "python",
   "name": "python3"
  },
  "language_info": {
   "codemirror_mode": {
    "name": "ipython",
    "version": 3
   },
   "file_extension": ".py",
   "mimetype": "text/x-python",
   "name": "python",
   "nbconvert_exporter": "python",
   "pygments_lexer": "ipython3",
   "version": "3.5.2"
  }
 },
 "nbformat": 4,
 "nbformat_minor": 2
}
