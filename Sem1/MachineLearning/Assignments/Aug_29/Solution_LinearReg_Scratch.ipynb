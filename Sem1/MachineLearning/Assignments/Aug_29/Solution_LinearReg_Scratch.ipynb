{
 "cells": [
  {
   "cell_type": "code",
   "execution_count": 3,
   "metadata": {},
   "outputs": [],
   "source": [
    "import numpy as np\n",
    "import pandas as pd\n",
    "import matplotlib.pyplot as plt\n",
    "%matplotlib inline\n",
    "import warnings\n",
    "warnings.filterwarnings(\"ignore\")"
   ]
  },
  {
   "cell_type": "code",
   "execution_count": 166,
   "metadata": {},
   "outputs": [
    {
     "name": "stdout",
     "output_type": "stream",
     "text": [
      "(100, 3)\n"
     ]
    },
    {
     "data": {
      "text/plain": [
       "'plt.figure(figsize = (10, 5))\\nplt.plot(x,y, \\'b.\\')\\nplt.xlabel(\"Values of x\")\\nplt.ylabel(\"Values of y\")\\nplt.title(\"X vs Y\")\\nplt.show()'"
      ]
     },
     "execution_count": 166,
     "metadata": {},
     "output_type": "execute_result"
    }
   ],
   "source": [
    "# Generate data\n",
    "np.random.seed(40)\n",
    "x1 = np.random.rand(100)\n",
    "x2 = np.random.rand(100)\n",
    "x3 = np.random.rand(100)\n",
    "x = []\n",
    "for i in range(0,100):\n",
    "    x.append([x1[i],x2[i],x3[i]])\n",
    "    \n",
    "x = np.array(x)\n",
    "delta = np.random.rand(100)\n",
    "eq = \"y = 3*x1 + 7*x2 + 11*x3 + 8\"\n",
    "y = 3 * x1 + 7 * x2 + 11 * x3 + 8 + delta\n",
    "\n",
    "print(x.shape)\n",
    "# print(y.shape)\n",
    "\n",
    "# Plot data\n",
    "\"\"\"plt.figure(figsize = (10, 5))\n",
    "plt.plot(x,y, 'b.')\n",
    "plt.xlabel(\"Values of x\")\n",
    "plt.ylabel(\"Values of y\")\n",
    "plt.title(\"X vs Y\")\n",
    "plt.show()\"\"\""
   ]
  },
  {
   "cell_type": "code",
   "execution_count": 8,
   "metadata": {},
   "outputs": [],
   "source": [
    "# Loss function\n",
    "def loss(y, y_predicted):\n",
    "    return np.mean(np.square(y-y_predicted))"
   ]
  },
  {
   "cell_type": "code",
   "execution_count": 139,
   "metadata": {},
   "outputs": [],
   "source": [
    "def get_grad(x_data, y_data, w, c):\n",
    "#     print(x_data.shape)\n",
    "#     print(y_data.shape)\n",
    "#     j = (w[0]*x_data+w[1]*x_data+w[2]*x_data+c)\n",
    "#     print(j.shape)\n",
    "#     print((y_data - (w[0]*x_data+w[1]*x_data+w[2]*x_data+c)))\n",
    "#     print(x_data.shape[0])\n",
    "    w1_grad = []\n",
    "    w2_grad = []\n",
    "    w3_grad = []\n",
    "    c_grad = []\n",
    "#     print(\"w before\")\n",
    "#     print(w)\n",
    "#     print(\"w1_grad before\")\n",
    "#     print(w1_grad)\n",
    "    for i in range (0,x_data.shape[0]):\n",
    "        w1_grad.append(((y_data[i] - (w[0]*x_data[i][0]+w[1]*x_data[i][1]+w[2]*x_data[i][2]+c))*(-x_data[i][0])))\n",
    "        w2_grad.append(((y_data[i] - (w[0]*x_data[i][0]+w[1]*x_data[i][1]+w[2]*x_data[i][2]+c))*(-x_data[i][1])))\n",
    "        w3_grad.append(((y_data[i] - (w[0]*x_data[i][0]+w[1]*x_data[i][1]+w[2]*x_data[i][2]+c))*(-x_data[i][2])))\n",
    "        c_grad.append(((y_data - (w[0]*x_data[i][0]+w[1]*x_data[i][1]+w[2]*x_data[i][2]+c))*(-1)))\n",
    "    \n",
    "    w1 = np.mean(w1_grad)\n",
    "    w2 = np.mean(w2_grad)\n",
    "    w3 = np.mean(w3_grad)\n",
    "    c_grad = np.mean(c_grad)\n",
    "#     print(\"w after\")\n",
    "#     print(w)\n",
    "#     print(\"w1_grad after\")\n",
    "#     print(w1_grad)\n",
    "    return [w1, w2 , w3] , c_grad"
   ]
  },
  {
   "cell_type": "code",
   "execution_count": 140,
   "metadata": {},
   "outputs": [],
   "source": [
    "indices = np.random.permutation(x.shape[0])\n",
    "training_idx, val_idx, test_idx = indices[:60], indices[20:80], indices[80:100]"
   ]
  },
  {
   "cell_type": "code",
   "execution_count": 152,
   "metadata": {},
   "outputs": [],
   "source": [
    "# Split x into training and testing data\n",
    "x_train = x[training_idx]\n",
    "x_val = x[val_idx]\n",
    "x_test = x[test_idx]\n",
    "\n",
    "# Split y into training and testing data\n",
    "y_train = y[training_idx]\n",
    "y_val = y[val_idx]\n",
    "y_test = y[test_idx]"
   ]
  },
  {
   "cell_type": "code",
   "execution_count": 210,
   "metadata": {},
   "outputs": [],
   "source": [
    "# Set random.seed value\n",
    "def form_equation(lr,x_train,y_train,w,c0,num_iter):\n",
    "    np.random.seed(num_iter)\n",
    "\n",
    "    # Initialize m and c values\n",
    "    w1 = float(np.random.rand(1))\n",
    "    w2 = float(np.random.rand(1))\n",
    "    w3 = float(np.random.rand(1))\n",
    "    c0 = float(np.random.rand(1))\n",
    "\n",
    "    #print(w1,w2,w3)\n",
    "    #print(c0)\n",
    "\n",
    "    # Create empty lists to store intermediate m, c, loss functions\n",
    "    w_vec = []; c_vec = []; loss_val_vec = []; loss_train_vec = []\n",
    "\n",
    "    # NumberOfIterations\n",
    "    NumberOfIterations = num_iter\n",
    "\n",
    "    # Learning rate\n",
    "    #print (x_train.shape)\n",
    "    #print(y_train.shape)\n",
    "    w = np.array([w1,w2,w3])\n",
    "    lr = lr\n",
    "    print(\"\\nlr {:2.2f} num_iter {:2.2f}\".format(lr,num_iter))\n",
    "    for i in range(0, num_iter):\n",
    "        w_grad, c_grad = get_grad(x_train, y_train, w, c0)\n",
    "        w1 = w1 - lr * w_grad[0]\n",
    "        w2 = w2 - lr * w_grad[1]\n",
    "        w3 = w3 - lr * w_grad[2]\n",
    "        c0 = c0 - lr * c_grad\n",
    "        w = np.array([w1,w2,w3])\n",
    "    #     loss_train = loss(y_train, (w1*x_train[0]+w2*x_train[1]+w3*x_train[2]+c0)) \n",
    "#         loss_val = loss(y_val, (w1*x_val[0]+w2*x_val[1]+w3*x_val[2]+c0)) \n",
    "        #print(w1,w2,w3)\n",
    "    #     w_vec.append([w1,w2,w3])\n",
    "    #     c_vec.append(c0)\n",
    "    #     loss_val_vec.append(loss_val)\n",
    "    #     loss_train_vec.append(loss_train)\n",
    "\n",
    "    #print(\"Final w and c values are w_final = {:2.2f},{:2.2f},{:2.2f}, c_final = {:2.2f}\".format(w[0],w[1],w[2],c))\n",
    "    print(\"[{:2.2f} , {:2.2f} , {:2.2f} , {:2.2f}] \\n\".format(w[0],w[1],w[2],c))  \n",
    "    return w,c\n",
    "    #print(\"Hence the equation is of the form \\ny = {:2.2f}*x1 + {:2.2f}*x1 + {:2.2f}*x1 + {:2.2f} \".format(w[0],w[1],w[2],c))"
   ]
  },
  {
   "cell_type": "code",
   "execution_count": 201,
   "metadata": {},
   "outputs": [
    {
     "name": "stdout",
     "output_type": "stream",
     "text": [
      "Original equation \n",
      "y = 3*x1 + 7*x2 + 11*x3 + 8\n",
      "\n",
      "lr 0.10 num_iter 500.00\n",
      "[2.84 , 7.02 , 10.81 , 8.42] \n",
      "\n",
      "\n",
      "lr 0.10 num_iter 700.00\n",
      "[2.84 , 7.06 , 11.03 , 8.42] \n",
      "\n",
      "\n",
      "lr 0.10 num_iter 1000.00\n",
      "[2.86 , 7.09 , 11.14 , 8.42] \n",
      "\n",
      "\n",
      "lr 0.30 num_iter 500.00\n",
      "[2.87 , 7.10 , 11.17 , 8.42] \n",
      "\n",
      "\n",
      "lr 0.30 num_iter 700.00\n",
      "[2.87 , 7.10 , 11.17 , 8.42] \n",
      "\n",
      "\n",
      "lr 0.30 num_iter 1000.00\n",
      "[2.87 , 7.10 , 11.17 , 8.42] \n",
      "\n",
      "\n",
      "lr 0.50 num_iter 500.00\n",
      "[2.87 , 7.10 , 11.17 , 8.42] \n",
      "\n",
      "\n",
      "lr 0.50 num_iter 700.00\n",
      "[2.87 , 7.10 , 11.17 , 8.42] \n",
      "\n",
      "\n",
      "lr 0.50 num_iter 1000.00\n",
      "[2.87 , 7.10 , 11.17 , 8.42] \n",
      "\n",
      "\n",
      "lr 0.70 num_iter 500.00\n",
      "[2.87 , 7.10 , 11.17 , 8.42] \n",
      "\n",
      "\n",
      "lr 0.70 num_iter 700.00\n",
      "[2.87 , 7.10 , 11.17 , 8.42] \n",
      "\n",
      "\n",
      "lr 0.70 num_iter 1000.00\n",
      "[2.87 , 7.10 , 11.17 , 8.42] \n",
      "\n",
      "\n",
      "lr 0.90 num_iter 500.00\n",
      "[2.87 , 7.10 , 11.17 , 8.42] \n",
      "\n",
      "\n",
      "lr 0.90 num_iter 700.00\n",
      "[2.87 , 7.10 , 11.17 , 8.42] \n",
      "\n",
      "\n",
      "lr 0.90 num_iter 1000.00\n",
      "[2.87 , 7.10 , 11.17 , 8.42] \n",
      "\n"
     ]
    }
   ],
   "source": [
    "print(\"Original equation \\n\"+eq)\n",
    "x = np.arange(0.1, 1.0, 0.2)\n",
    "num_iter = [500,700,1000]\n",
    "for lr in x:\n",
    "    for ni in num_iter:\n",
    "        w,c = form_equation(lr,x_train,y_train,w,c0,ni)"
   ]
  },
  {
   "cell_type": "code",
   "execution_count": 202,
   "metadata": {},
   "outputs": [],
   "source": [
    "c = c0\n",
    "y_pred = []\n",
    "for i in range(0,x_test.shape[0]):\n",
    "    y_pred.append(w[0]*x_test[i][0]+w[1]*x_test[i][1]+w[2]*x_test[i][2]+c)"
   ]
  },
  {
   "cell_type": "code",
   "execution_count": 209,
   "metadata": {},
   "outputs": [
    {
     "data": {
      "text/plain": [
       "[<matplotlib.lines.Line2D at 0x7fd1d894ecc0>]"
      ]
     },
     "execution_count": 209,
     "metadata": {},
     "output_type": "execute_result"
    },
    {
     "data": {
      "image/png": "[encoded data removed]",
      "text/plain": [
       "<Figure size 720x360 with 1 Axes>"
      ]
     },
     "metadata": {},
     "output_type": "display_data"
    }
   ],
   "source": [
    "plt.figure(figsize=(10,5))\n",
    "#plt.plot(x_test, y_test, \"b.\")\n",
    "plt.plot(y_test,'*', color = 'b')\n",
    "plt.plot(y_pred,'*', color = 'r')"
   ]
  }
 ],
 "metadata": {
  "kernelspec": {
   "display_name": "Python 3",
   "language": "python",
   "name": "python3"
  },
  "language_info": {
   "codemirror_mode": {
    "name": "ipython",
    "version": 3
   },
   "file_extension": ".py",
   "mimetype": "text/x-python",
   "name": "python",
   "nbconvert_exporter": "python",
   "pygments_lexer": "ipython3",
   "version": "3.5.2"
  }
 },
 "nbformat": 4,
 "nbformat_minor": 2
}
